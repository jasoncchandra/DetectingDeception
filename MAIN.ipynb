{
 "cells": [
  {
   "cell_type": "markdown",
   "id": "649ed1fc-f136-45e9-85c2-1704447396c2",
   "metadata": {},
   "source": [
    "# Detecting Deception"
   ]
  },
  {
   "cell_type": "markdown",
   "id": "b0c92311-9081-4fff-84b9-9e6b8e4ab0d6",
   "metadata": {},
   "source": [
    "## 1. Importing all of the libraries"
   ]
  },
  {
   "cell_type": "code",
   "execution_count": 31,
   "id": "669542de-a7cd-4b59-bde8-49e0a75fcb99",
   "metadata": {
    "tags": []
   },
   "outputs": [],
   "source": [
    "import numpy as np  # NumPy for numerical operations\n",
    "import pandas as pd  # Pandas for data manipulation\n",
    "import re  # Regular expressions for text processing\n",
    "import nltk  # NLTK for natural language processing\n",
    "from nltk.corpus import stopwords  # Stopwords for text preprocessing\n",
    "from nltk.stem.porter import PorterStemmer  # Porter Stemmer for stemming\n",
    "from sklearn.feature_extraction.text import TfidfVectorizer  # TF-IDF vectorization\n",
    "from sklearn.model_selection import train_test_split  # Splitting the dataset\n",
    "from sklearn.linear_model import LogisticRegression  # Logistic Regression model\n",
    "from sklearn.naive_bayes import MultinomialNB\n",
    "from sklearn.metrics import accuracy_score  # Accuracy score metric\n",
    "from nltk.stem.porter import PorterStemmer  # Porter Stemmer for text preprocessing\n",
    "from sklearn.metrics import confusion_matrix  # Confusion matrix for evaluation\n",
    "from sklearn.linear_model import PassiveAggressiveClassifier\n",
    "from sklearn.metrics import classification_report  # Classification report for evaluation\n",
    "#nltk.download('punkt')"
   ]
  },
  {
   "cell_type": "markdown",
   "id": "ced45de5-dfe1-4f85-8c5f-da3906340676",
   "metadata": {},
   "source": [
    "## 2. Importing data"
   ]
  },
  {
   "cell_type": "markdown",
   "id": "0cf0e3f7-2b97-4135-a65f-325987889371",
   "metadata": {},
   "source": [
    "The dataset that will be used is from kaggle,\n",
    "https://www.kaggle.com/competitions/fake-news"
   ]
  },
  {
   "cell_type": "markdown",
   "id": "a191a489-01e9-4c19-b69b-e5f8c2bb231d",
   "metadata": {},
   "source": [
    "Let's open it and analyze it in depth. This kaggle source supplied us with train data, for us to train our models, and test data!"
   ]
  },
  {
   "cell_type": "code",
   "execution_count": 22,
   "id": "4bc1fa2d-0382-4267-827d-d2c73c28be6d",
   "metadata": {
    "tags": []
   },
   "outputs": [
    {
     "data": {
      "text/html": [
       "<div>\n",
       "<style scoped>\n",
       "    .dataframe tbody tr th:only-of-type {\n",
       "        vertical-align: middle;\n",
       "    }\n",
       "\n",
       "    .dataframe tbody tr th {\n",
       "        vertical-align: top;\n",
       "    }\n",
       "\n",
       "    .dataframe thead th {\n",
       "        text-align: right;\n",
       "    }\n",
       "</style>\n",
       "<table border=\"1\" class=\"dataframe\">\n",
       "  <thead>\n",
       "    <tr style=\"text-align: right;\">\n",
       "      <th></th>\n",
       "      <th>id</th>\n",
       "      <th>title</th>\n",
       "      <th>author</th>\n",
       "      <th>text</th>\n",
       "      <th>label</th>\n",
       "    </tr>\n",
       "  </thead>\n",
       "  <tbody>\n",
       "    <tr>\n",
       "      <th>0</th>\n",
       "      <td>0</td>\n",
       "      <td>House Dem Aide: We Didn’t Even See Comey’s Let...</td>\n",
       "      <td>Darrell Lucus</td>\n",
       "      <td>House Dem Aide: We Didn’t Even See Comey’s Let...</td>\n",
       "      <td>1</td>\n",
       "    </tr>\n",
       "    <tr>\n",
       "      <th>1</th>\n",
       "      <td>1</td>\n",
       "      <td>FLYNN: Hillary Clinton, Big Woman on Campus - ...</td>\n",
       "      <td>Daniel J. Flynn</td>\n",
       "      <td>Ever get the feeling your life circles the rou...</td>\n",
       "      <td>0</td>\n",
       "    </tr>\n",
       "    <tr>\n",
       "      <th>2</th>\n",
       "      <td>2</td>\n",
       "      <td>Why the Truth Might Get You Fired</td>\n",
       "      <td>Consortiumnews.com</td>\n",
       "      <td>Why the Truth Might Get You Fired October 29, ...</td>\n",
       "      <td>1</td>\n",
       "    </tr>\n",
       "    <tr>\n",
       "      <th>3</th>\n",
       "      <td>3</td>\n",
       "      <td>15 Civilians Killed In Single US Airstrike Hav...</td>\n",
       "      <td>Jessica Purkiss</td>\n",
       "      <td>Videos 15 Civilians Killed In Single US Airstr...</td>\n",
       "      <td>1</td>\n",
       "    </tr>\n",
       "    <tr>\n",
       "      <th>4</th>\n",
       "      <td>4</td>\n",
       "      <td>Iranian woman jailed for fictional unpublished...</td>\n",
       "      <td>Howard Portnoy</td>\n",
       "      <td>Print \\nAn Iranian woman has been sentenced to...</td>\n",
       "      <td>1</td>\n",
       "    </tr>\n",
       "  </tbody>\n",
       "</table>\n",
       "</div>"
      ],
      "text/plain": [
       "   id                                              title              author  \\\n",
       "0   0  House Dem Aide: We Didn’t Even See Comey’s Let...       Darrell Lucus   \n",
       "1   1  FLYNN: Hillary Clinton, Big Woman on Campus - ...     Daniel J. Flynn   \n",
       "2   2                  Why the Truth Might Get You Fired  Consortiumnews.com   \n",
       "3   3  15 Civilians Killed In Single US Airstrike Hav...     Jessica Purkiss   \n",
       "4   4  Iranian woman jailed for fictional unpublished...      Howard Portnoy   \n",
       "\n",
       "                                                text  label  \n",
       "0  House Dem Aide: We Didn’t Even See Comey’s Let...      1  \n",
       "1  Ever get the feeling your life circles the rou...      0  \n",
       "2  Why the Truth Might Get You Fired October 29, ...      1  \n",
       "3  Videos 15 Civilians Killed In Single US Airstr...      1  \n",
       "4  Print \\nAn Iranian woman has been sentenced to...      1  "
      ]
     },
     "execution_count": 22,
     "metadata": {},
     "output_type": "execute_result"
    }
   ],
   "source": [
    "dataset = pd.read_csv(\"train.csv\")\n",
    "dataset.head()\n"
   ]
  },
  {
   "cell_type": "code",
   "execution_count": 23,
   "id": "3ccc45fa-b739-475d-9d51-ac0bc442107b",
   "metadata": {
    "tags": []
   },
   "outputs": [
    {
     "data": {
      "text/plain": [
       "(20800, 5)"
      ]
     },
     "execution_count": 23,
     "metadata": {},
     "output_type": "execute_result"
    }
   ],
   "source": [
    "dataset.shape"
   ]
  },
  {
   "cell_type": "markdown",
   "id": "ab3b3275-41e5-4f3f-89a6-85792cba7eb6",
   "metadata": {},
   "source": [
    "Here's a brief overview of the columns:\n",
    "\n",
    "id: A unique identifier for each news article.\n",
    "\n",
    "title: The title or headline of the news article.\n",
    "\n",
    "author: The author of the news article.\n",
    "\n",
    "text: The main content of the news article.\n",
    "\n",
    "label: The label indicating whether the article is real (0) or fake (1).\n",
    "\n",
    "We can use this dataset to perform data preprocessing, feature extraction, and model training for your fake news detection system."
   ]
  },
  {
   "cell_type": "markdown",
   "id": "2e62a857-8111-44f1-8876-23d9ffc5f812",
   "metadata": {},
   "source": [
    "## 3. Clean and Pre-Process"
   ]
  },
  {
   "cell_type": "markdown",
   "id": "896076d7-4d79-45f8-b458-de8790b5e993",
   "metadata": {},
   "source": [
    "1. **Text Cleaning:**\n",
    "   - **Objective:** To remove unnecessary characters and symbols from the text data, ensuring it's ready for further processing.\n",
    "   - **Explanation:** In this step, you use regular expressions to eliminate non-alphanumeric characters (e.g., punctuation) and extra whitespaces. The cleaned text becomes more manageable for subsequent analysis.\n",
    "\n",
    "2. **Tokenization:**\n",
    "   - **Objective:** To split the text into individual words or tokens.\n",
    "   - **Explanation:** Tokenization breaks down a text paragraph into its constituent words or tokens. For example, the sentence \"I love natural language processing\" would be tokenized into [\"I\", \"love\", \"natural\", \"language\", \"processing\"].\n",
    "\n",
    "3. **Lowercasing:**\n",
    "   - **Objective:** To convert all text to lowercase.\n",
    "   - **Explanation:** This step ensures uniformity in the text data by making all characters lowercase. It helps in treating words like \"apple\" and \"Apple\" as the same word.\n",
    "\n",
    "4. **Stopword Removal:**\n",
    "   - **Objective:** To remove common words (stopwords) that don't carry significant meaning.\n",
    "   - **Explanation:** Stopwords are words like \"the,\" \"and,\" \"is,\" etc., that are frequently used in the English language but often don't provide valuable information for text analysis. Removing them reduces noise in the data.\n",
    "\n",
    "5. **Stemming:**\n",
    "   - **Objective:** To reduce words to their base or root form.\n",
    "   - **Explanation:** Stemming algorithms (e.g., Porter Stemmer) trim words to their root form by removing prefixes or suffixes. For example, \"jumped,\" \"jumps,\" and \"jumping\" might all be stemmed to \"jump.\" This helps in treating similar words as the same.\n",
    "\n",
    "6. **TF-IDF Vectorization (Term Frequency-Inverse Document Frequency):**\n",
    "   - **Objective:** To convert text data into numerical form for machine learning models.\n",
    "   - **Explanation:** TF-IDF is a statistical measure that evaluates the importance of words in a document relative to a collection of documents (corpus). It assigns numerical values to words based on their frequency in a specific document and their rarity in the entire corpus. TF-IDF vectorization represents text data as a matrix of numerical features, making it suitable for machine learning algorithms.\n",
    "\n",
    "These preprocessing steps collectively prepare text data for various natural language processing and machine learning tasks, such as text classification, sentiment analysis, and information retrieval. They help in reducing noise, standardizing text, and transforming it into a format that can be fed into models for meaningful analysis and predictions."
   ]
  },
  {
   "cell_type": "code",
   "execution_count": 24,
   "id": "60b94871-928f-4c56-a599-453f1e4fbbfc",
   "metadata": {
    "tags": []
   },
   "outputs": [
    {
     "data": {
      "text/html": [
       "<div>\n",
       "<style scoped>\n",
       "    .dataframe tbody tr th:only-of-type {\n",
       "        vertical-align: middle;\n",
       "    }\n",
       "\n",
       "    .dataframe tbody tr th {\n",
       "        vertical-align: top;\n",
       "    }\n",
       "\n",
       "    .dataframe thead th {\n",
       "        text-align: right;\n",
       "    }\n",
       "</style>\n",
       "<table border=\"1\" class=\"dataframe\">\n",
       "  <thead>\n",
       "    <tr style=\"text-align: right;\">\n",
       "      <th></th>\n",
       "      <th>id</th>\n",
       "      <th>title</th>\n",
       "      <th>author</th>\n",
       "      <th>text</th>\n",
       "      <th>label</th>\n",
       "      <th>cleaned_text</th>\n",
       "    </tr>\n",
       "  </thead>\n",
       "  <tbody>\n",
       "    <tr>\n",
       "      <th>0</th>\n",
       "      <td>0</td>\n",
       "      <td>House Dem Aide: We Didn’t Even See Comey’s Let...</td>\n",
       "      <td>Darrell Lucus</td>\n",
       "      <td>House Dem Aide: We Didn’t Even See Comey’s Let...</td>\n",
       "      <td>1</td>\n",
       "      <td>house dem aide we didn t even see comey s lett...</td>\n",
       "    </tr>\n",
       "    <tr>\n",
       "      <th>1</th>\n",
       "      <td>1</td>\n",
       "      <td>FLYNN: Hillary Clinton, Big Woman on Campus - ...</td>\n",
       "      <td>Daniel J. Flynn</td>\n",
       "      <td>Ever get the feeling your life circles the rou...</td>\n",
       "      <td>0</td>\n",
       "      <td>ever get the feeling your life circles the rou...</td>\n",
       "    </tr>\n",
       "    <tr>\n",
       "      <th>2</th>\n",
       "      <td>2</td>\n",
       "      <td>Why the Truth Might Get You Fired</td>\n",
       "      <td>Consortiumnews.com</td>\n",
       "      <td>Why the Truth Might Get You Fired October 29, ...</td>\n",
       "      <td>1</td>\n",
       "      <td>why the truth might get you fired october the ...</td>\n",
       "    </tr>\n",
       "    <tr>\n",
       "      <th>3</th>\n",
       "      <td>3</td>\n",
       "      <td>15 Civilians Killed In Single US Airstrike Hav...</td>\n",
       "      <td>Jessica Purkiss</td>\n",
       "      <td>Videos 15 Civilians Killed In Single US Airstr...</td>\n",
       "      <td>1</td>\n",
       "      <td>videos civilians killed in single us airstrike...</td>\n",
       "    </tr>\n",
       "    <tr>\n",
       "      <th>4</th>\n",
       "      <td>4</td>\n",
       "      <td>Iranian woman jailed for fictional unpublished...</td>\n",
       "      <td>Howard Portnoy</td>\n",
       "      <td>Print \\nAn Iranian woman has been sentenced to...</td>\n",
       "      <td>1</td>\n",
       "      <td>print an iranian woman has been sentenced to s...</td>\n",
       "    </tr>\n",
       "  </tbody>\n",
       "</table>\n",
       "</div>"
      ],
      "text/plain": [
       "   id                                              title              author  \\\n",
       "0   0  House Dem Aide: We Didn’t Even See Comey’s Let...       Darrell Lucus   \n",
       "1   1  FLYNN: Hillary Clinton, Big Woman on Campus - ...     Daniel J. Flynn   \n",
       "2   2                  Why the Truth Might Get You Fired  Consortiumnews.com   \n",
       "3   3  15 Civilians Killed In Single US Airstrike Hav...     Jessica Purkiss   \n",
       "4   4  Iranian woman jailed for fictional unpublished...      Howard Portnoy   \n",
       "\n",
       "                                                text  label  \\\n",
       "0  House Dem Aide: We Didn’t Even See Comey’s Let...      1   \n",
       "1  Ever get the feeling your life circles the rou...      0   \n",
       "2  Why the Truth Might Get You Fired October 29, ...      1   \n",
       "3  Videos 15 Civilians Killed In Single US Airstr...      1   \n",
       "4  Print \\nAn Iranian woman has been sentenced to...      1   \n",
       "\n",
       "                                        cleaned_text  \n",
       "0  house dem aide we didn t even see comey s lett...  \n",
       "1  ever get the feeling your life circles the rou...  \n",
       "2  why the truth might get you fired october the ...  \n",
       "3  videos civilians killed in single us airstrike...  \n",
       "4  print an iranian woman has been sentenced to s...  "
      ]
     },
     "execution_count": 24,
     "metadata": {},
     "output_type": "execute_result"
    }
   ],
   "source": [
    "# Step 1: Missing Value Handling (Optional - If needed)\n",
    "# To remove rows with missing values for specific columns, use the following:\n",
    "dataset.dropna(subset=['label'], inplace=True)\n",
    "\n",
    "# If you want to remove columns with missing values, use the following:\n",
    "dataset.dropna(axis=1, inplace=True)\n",
    "\n",
    "# Step 2: Text Cleaning\n",
    "def clean_text(text):\n",
    "    # Check if the input is a string, if not, return an empty string\n",
    "    if not isinstance(text, str):\n",
    "        return ''\n",
    "    \n",
    "    # Remove non-alphanumeric characters and extra whitespaces using regular expressions\n",
    "    text = re.sub(r'[^a-zA-Z]', ' ', text)\n",
    "    text = re.sub(r'\\s+', ' ', text)\n",
    "    return text\n",
    "\n",
    "# Apply the 'clean_text' function to the 'text' column and create a new 'cleaned_text' column\n",
    "dataset['cleaned_text'] = dataset['text'].apply(clean_text)\n",
    "\n",
    "# Step 3: Tokenization and Lowercasing\n",
    "def tokenize_and_lowercase(text):\n",
    "    # Tokenize the text into individual words or tokens\n",
    "    tokens = nltk.word_tokenize(text)\n",
    "    \n",
    "    # Convert each token to lowercase for uniformity\n",
    "    tokens = [word.lower() for word in tokens]\n",
    "    return ' '.join(tokens)\n",
    "\n",
    "# Apply the 'tokenize_and_lowercase' function to the 'cleaned_text' column\n",
    "dataset['cleaned_text'] = dataset['cleaned_text'].apply(tokenize_and_lowercase)\n",
    "dataset.head()\n"
   ]
  },
  {
   "cell_type": "code",
   "execution_count": 25,
   "id": "0385a9e9-db4a-492c-9ba0-d13648e7ddc3",
   "metadata": {
    "tags": []
   },
   "outputs": [
    {
     "name": "stderr",
     "output_type": "stream",
     "text": [
      "[nltk_data] Downloading package stopwords to\n",
      "[nltk_data]     /Users/chandrajason/nltk_data...\n",
      "[nltk_data]   Package stopwords is already up-to-date!\n"
     ]
    },
    {
     "data": {
      "text/html": [
       "<div>\n",
       "<style scoped>\n",
       "    .dataframe tbody tr th:only-of-type {\n",
       "        vertical-align: middle;\n",
       "    }\n",
       "\n",
       "    .dataframe tbody tr th {\n",
       "        vertical-align: top;\n",
       "    }\n",
       "\n",
       "    .dataframe thead th {\n",
       "        text-align: right;\n",
       "    }\n",
       "</style>\n",
       "<table border=\"1\" class=\"dataframe\">\n",
       "  <thead>\n",
       "    <tr style=\"text-align: right;\">\n",
       "      <th></th>\n",
       "      <th>id</th>\n",
       "      <th>title</th>\n",
       "      <th>author</th>\n",
       "      <th>text</th>\n",
       "      <th>label</th>\n",
       "      <th>cleaned_text</th>\n",
       "    </tr>\n",
       "  </thead>\n",
       "  <tbody>\n",
       "    <tr>\n",
       "      <th>0</th>\n",
       "      <td>0</td>\n",
       "      <td>House Dem Aide: We Didn’t Even See Comey’s Let...</td>\n",
       "      <td>Darrell Lucus</td>\n",
       "      <td>House Dem Aide: We Didn’t Even See Comey’s Let...</td>\n",
       "      <td>1</td>\n",
       "      <td>hous dem aid even see comey letter jason chaff...</td>\n",
       "    </tr>\n",
       "    <tr>\n",
       "      <th>1</th>\n",
       "      <td>1</td>\n",
       "      <td>FLYNN: Hillary Clinton, Big Woman on Campus - ...</td>\n",
       "      <td>Daniel J. Flynn</td>\n",
       "      <td>Ever get the feeling your life circles the rou...</td>\n",
       "      <td>0</td>\n",
       "      <td>ever get feel life circl roundabout rather hea...</td>\n",
       "    </tr>\n",
       "    <tr>\n",
       "      <th>2</th>\n",
       "      <td>2</td>\n",
       "      <td>Why the Truth Might Get You Fired</td>\n",
       "      <td>Consortiumnews.com</td>\n",
       "      <td>Why the Truth Might Get You Fired October 29, ...</td>\n",
       "      <td>1</td>\n",
       "      <td>truth might get fire octob tension intellig an...</td>\n",
       "    </tr>\n",
       "    <tr>\n",
       "      <th>3</th>\n",
       "      <td>3</td>\n",
       "      <td>15 Civilians Killed In Single US Airstrike Hav...</td>\n",
       "      <td>Jessica Purkiss</td>\n",
       "      <td>Videos 15 Civilians Killed In Single US Airstr...</td>\n",
       "      <td>1</td>\n",
       "      <td>video civilian kill singl us airstrik identifi...</td>\n",
       "    </tr>\n",
       "    <tr>\n",
       "      <th>4</th>\n",
       "      <td>4</td>\n",
       "      <td>Iranian woman jailed for fictional unpublished...</td>\n",
       "      <td>Howard Portnoy</td>\n",
       "      <td>Print \\nAn Iranian woman has been sentenced to...</td>\n",
       "      <td>1</td>\n",
       "      <td>print iranian woman sentenc six year prison ir...</td>\n",
       "    </tr>\n",
       "  </tbody>\n",
       "</table>\n",
       "</div>"
      ],
      "text/plain": [
       "   id                                              title              author  \\\n",
       "0   0  House Dem Aide: We Didn’t Even See Comey’s Let...       Darrell Lucus   \n",
       "1   1  FLYNN: Hillary Clinton, Big Woman on Campus - ...     Daniel J. Flynn   \n",
       "2   2                  Why the Truth Might Get You Fired  Consortiumnews.com   \n",
       "3   3  15 Civilians Killed In Single US Airstrike Hav...     Jessica Purkiss   \n",
       "4   4  Iranian woman jailed for fictional unpublished...      Howard Portnoy   \n",
       "\n",
       "                                                text  label  \\\n",
       "0  House Dem Aide: We Didn’t Even See Comey’s Let...      1   \n",
       "1  Ever get the feeling your life circles the rou...      0   \n",
       "2  Why the Truth Might Get You Fired October 29, ...      1   \n",
       "3  Videos 15 Civilians Killed In Single US Airstr...      1   \n",
       "4  Print \\nAn Iranian woman has been sentenced to...      1   \n",
       "\n",
       "                                        cleaned_text  \n",
       "0  hous dem aid even see comey letter jason chaff...  \n",
       "1  ever get feel life circl roundabout rather hea...  \n",
       "2  truth might get fire octob tension intellig an...  \n",
       "3  video civilian kill singl us airstrik identifi...  \n",
       "4  print iranian woman sentenc six year prison ir...  "
      ]
     },
     "execution_count": 25,
     "metadata": {},
     "output_type": "execute_result"
    }
   ],
   "source": [
    "# Step 4: Stopword Removal\n",
    "nltk.download('stopwords')\n",
    "stop_words = set(stopwords.words('english'))\n",
    "\n",
    "def remove_stopwords(text):\n",
    "    # Tokenize the text\n",
    "    tokens = nltk.word_tokenize(text)\n",
    "    \n",
    "    # Remove common stopwords from the tokens\n",
    "    tokens = [word for word in tokens if word not in stop_words]\n",
    "    return ' '.join(tokens)\n",
    "\n",
    "# Apply the 'remove_stopwords' function to the 'cleaned_text' column\n",
    "dataset['cleaned_text'] = dataset['cleaned_text'].apply(remove_stopwords)\n",
    "\n",
    "# Step 5: Stemming (You can also use Lemmatization if preferred)\n",
    "stemmer = PorterStemmer()\n",
    "\n",
    "def stem_text(text):\n",
    "    # Tokenize the text\n",
    "    tokens = nltk.word_tokenize(text)\n",
    "    \n",
    "    # Apply stemming to reduce words to their base or root form\n",
    "    tokens = [stemmer.stem(word) for word in tokens]\n",
    "    return ' '.join(tokens)\n",
    "\n",
    "# Apply the 'stem_text' function to the 'cleaned_text' column\n",
    "dataset['cleaned_text'] = dataset['cleaned_text'].apply(stem_text)\n",
    "dataset.head()\n",
    "\n"
   ]
  },
  {
   "cell_type": "code",
   "execution_count": 26,
   "id": "53157cc4-a937-4143-b99b-d6103c734a8d",
   "metadata": {
    "tags": []
   },
   "outputs": [
    {
     "name": "stdout",
     "output_type": "stream",
     "text": [
      "   id  label                                       cleaned_text\n",
      "0   0      1  hous dem aid even see comey letter jason chaff...\n",
      "1   1      0  ever get feel life circl roundabout rather hea...\n",
      "2   2      1  truth might get fire octob tension intellig an...\n",
      "3   3      1  video civilian kill singl us airstrik identifi...\n",
      "4   4      1  print iranian woman sentenc six year prison ir...\n"
     ]
    }
   ],
   "source": [
    "# Step 6: TF-IDF Vectorization\n",
    "vectorizer = TfidfVectorizer()\n",
    "\n",
    "# Use TF-IDF vectorization to convert text data into numerical form\n",
    "X = vectorizer.fit_transform(dataset['cleaned_text'])\n",
    "\n",
    "# Step 7: Splitting the Data\n",
    "# Split the dataset into training and testing subsets\n",
    "X_train, X_test, Y_train, Y_test = train_test_split(X, dataset['label'], test_size=0.2, random_state=42)\n",
    "\n",
    "# Display the first few rows of the preprocessed data\n",
    "print(dataset.head())\n",
    "\n",
    "# Now, you have preprocessed data ready for model training and evaluation."
   ]
  },
  {
   "cell_type": "code",
   "execution_count": 27,
   "id": "180c02d1-a133-4a12-81fe-580de283f0fd",
   "metadata": {
    "tags": []
   },
   "outputs": [
    {
     "data": {
      "text/html": [
       "<div>\n",
       "<style scoped>\n",
       "    .dataframe tbody tr th:only-of-type {\n",
       "        vertical-align: middle;\n",
       "    }\n",
       "\n",
       "    .dataframe tbody tr th {\n",
       "        vertical-align: top;\n",
       "    }\n",
       "\n",
       "    .dataframe thead th {\n",
       "        text-align: right;\n",
       "    }\n",
       "</style>\n",
       "<table border=\"1\" class=\"dataframe\">\n",
       "  <thead>\n",
       "    <tr style=\"text-align: right;\">\n",
       "      <th></th>\n",
       "      <th>id</th>\n",
       "      <th>label</th>\n",
       "    </tr>\n",
       "  </thead>\n",
       "  <tbody>\n",
       "    <tr>\n",
       "      <th>count</th>\n",
       "      <td>20800.000000</td>\n",
       "      <td>20800.000000</td>\n",
       "    </tr>\n",
       "    <tr>\n",
       "      <th>mean</th>\n",
       "      <td>10399.500000</td>\n",
       "      <td>0.500625</td>\n",
       "    </tr>\n",
       "    <tr>\n",
       "      <th>std</th>\n",
       "      <td>6004.587135</td>\n",
       "      <td>0.500012</td>\n",
       "    </tr>\n",
       "    <tr>\n",
       "      <th>min</th>\n",
       "      <td>0.000000</td>\n",
       "      <td>0.000000</td>\n",
       "    </tr>\n",
       "    <tr>\n",
       "      <th>25%</th>\n",
       "      <td>5199.750000</td>\n",
       "      <td>0.000000</td>\n",
       "    </tr>\n",
       "    <tr>\n",
       "      <th>50%</th>\n",
       "      <td>10399.500000</td>\n",
       "      <td>1.000000</td>\n",
       "    </tr>\n",
       "    <tr>\n",
       "      <th>75%</th>\n",
       "      <td>15599.250000</td>\n",
       "      <td>1.000000</td>\n",
       "    </tr>\n",
       "    <tr>\n",
       "      <th>max</th>\n",
       "      <td>20799.000000</td>\n",
       "      <td>1.000000</td>\n",
       "    </tr>\n",
       "  </tbody>\n",
       "</table>\n",
       "</div>"
      ],
      "text/plain": [
       "                 id         label\n",
       "count  20800.000000  20800.000000\n",
       "mean   10399.500000      0.500625\n",
       "std     6004.587135      0.500012\n",
       "min        0.000000      0.000000\n",
       "25%     5199.750000      0.000000\n",
       "50%    10399.500000      1.000000\n",
       "75%    15599.250000      1.000000\n",
       "max    20799.000000      1.000000"
      ]
     },
     "execution_count": 27,
     "metadata": {},
     "output_type": "execute_result"
    }
   ],
   "source": [
    "dataset.describe()"
   ]
  },
  {
   "cell_type": "markdown",
   "id": "da19ccfe-b227-4935-9fa0-a367be134b79",
   "metadata": {},
   "source": [
    "## 4. Model Selection"
   ]
  },
  {
   "cell_type": "markdown",
   "id": "a81d0f8e-831c-4b87-b9fa-f5baeb7c659e",
   "metadata": {},
   "source": [
    "1. **Logistic Regression**: Logistic Regression is a well-established linear classification algorithm that works well for binary classification tasks like yours (fake news detection). It's simple, interpretable, and often serves as a baseline model. While it assumes a linear relationship between features and the log-odds of the target variable, it can be surprisingly effective for text classification, especially with TF-IDF features.\n",
    "\n",
    "2. **Multinomial Naive Bayes (MNB)**: MNB is a probabilistic classifier based on Bayes' theorem and is particularly well-suited for text classification tasks, especially when dealing with text data that can be represented as word counts (like TF-IDF features). It works by modeling the conditional probability of a document belonging to a class given its feature vector. Naive Bayes is known for its simplicity, speed, and good performance in text classification tasks, making it a strong choice for such applications.\n",
    "\n",
    "3. **Passive Aggressive Classifier**: Passive Aggressive Classifier is an online learning algorithm that is particularly useful when dealing with large datasets and evolving data streams. It's called \"passive-aggressive\" because it adjusts its model based on whether it correctly classified an example or not. It's adaptive and can handle changing patterns in the data, which can be advantageous in real-world scenarios where the distribution of fake news may change over time.\n",
    "\n",
    "By combining these three classifiers, you have a diverse set of algorithms that can capture different aspects of your text data, potentially leading to improved overall performance and robustness in fake news detection."
   ]
  },
  {
   "cell_type": "code",
   "execution_count": 32,
   "id": "7f809261-c13a-4f1f-a8ef-d5f52d7c86ea",
   "metadata": {
    "tags": []
   },
   "outputs": [
    {
     "name": "stdout",
     "output_type": "stream",
     "text": [
      "Logistic Regression Accuracy: 0.94\n",
      "Classification Report for Logistic Regression:\n",
      "               precision    recall  f1-score   support\n",
      "\n",
      "           0       0.95      0.94      0.94      2132\n",
      "           1       0.94      0.95      0.94      2028\n",
      "\n",
      "    accuracy                           0.94      4160\n",
      "   macro avg       0.94      0.94      0.94      4160\n",
      "weighted avg       0.94      0.94      0.94      4160\n",
      "\n",
      "Confusion Matrix for Logistic Regression:\n",
      " [[2000  132]\n",
      " [ 101 1927]]\n",
      "\n",
      "Multinomial Naive Bayes Accuracy: 0.88\n",
      "Classification Report for Multinomial Naive Bayes:\n",
      "               precision    recall  f1-score   support\n",
      "\n",
      "           0       0.81      0.98      0.89      2132\n",
      "           1       0.98      0.76      0.86      2028\n",
      "\n",
      "    accuracy                           0.88      4160\n",
      "   macro avg       0.89      0.87      0.87      4160\n",
      "weighted avg       0.89      0.88      0.87      4160\n",
      "\n",
      "Confusion Matrix for Multinomial Naive Bayes:\n",
      " [[2093   39]\n",
      " [ 477 1551]]\n",
      "\n",
      "Passive Aggressive Classifier Accuracy: 0.95\n",
      "Classification Report for Passive Aggressive Classifier:\n",
      "               precision    recall  f1-score   support\n",
      "\n",
      "           0       0.96      0.95      0.95      2132\n",
      "           1       0.95      0.95      0.95      2028\n",
      "\n",
      "    accuracy                           0.95      4160\n",
      "   macro avg       0.95      0.95      0.95      4160\n",
      "weighted avg       0.95      0.95      0.95      4160\n",
      "\n",
      "Confusion Matrix for Passive Aggressive Classifier:\n",
      " [[2028  104]\n",
      " [  92 1936]]\n"
     ]
    }
   ],
   "source": [
    "from sklearn.metrics import accuracy_score, classification_report, confusion_matrix\n",
    "\n",
    "# Model 1: Logistic Regression\n",
    "logistic_regression = LogisticRegression(max_iter=1000, random_state=42)\n",
    "logistic_regression.fit(X_train, Y_train)\n",
    "Y_pred_lr = logistic_regression.predict(X_test)\n",
    "\n",
    "# Model 2: Multinomial Naive Bayes\n",
    "naive_bayes = MultinomialNB()\n",
    "naive_bayes.fit(X_train, Y_train)\n",
    "Y_pred_nb = naive_bayes.predict(X_test)\n",
    "\n",
    "# Model 3: Passive Aggressive Classifier\n",
    "passive_aggressive = PassiveAggressiveClassifier(max_iter=1000, random_state=42)\n",
    "passive_aggressive.fit(X_train, Y_train)\n",
    "Y_pred_pa = passive_aggressive.predict(X_test)\n",
    "\n",
    "# Evaluate the models\n",
    "def evaluate_model(model_name, Y_true, Y_pred):\n",
    "    accuracy = accuracy_score(Y_true, Y_pred)\n",
    "    print(f'{model_name} Accuracy: {accuracy:.2f}')\n",
    "    print(f'Classification Report for {model_name}:\\n', classification_report(Y_true, Y_pred))\n",
    "    print(f'Confusion Matrix for {model_name}:\\n', confusion_matrix(Y_true, Y_pred))\n",
    "\n",
    "# Evaluate Logistic Regression\n",
    "evaluate_model('Logistic Regression', Y_test, Y_pred_lr)\n",
    "print()\n",
    "\n",
    "# Evaluate Multinomial Naive Bayes\n",
    "evaluate_model('Multinomial Naive Bayes', Y_test, Y_pred_nb)\n",
    "print()\n",
    "\n",
    "# Evaluate Passive Aggressive Classifier\n",
    "evaluate_model('Passive Aggressive Classifier', Y_test, Y_pred_pa)\n",
    "print()"
   ]
  },
  {
   "cell_type": "markdown",
   "id": "3d9834e3-4c0a-44bb-a847-38a179007470",
   "metadata": {},
   "source": [
    "Random Forest is an ensemble method that combines multiple decision trees to make predictions."
   ]
  },
  {
   "cell_type": "code",
   "execution_count": 33,
   "id": "704bbe92-f55a-413e-8201-f1b8274366f9",
   "metadata": {
    "tags": []
   },
   "outputs": [
    {
     "name": "stdout",
     "output_type": "stream",
     "text": [
      "Random Forest Accuracy: 0.92\n",
      "Classification Report for Random Forest:\n",
      "               precision    recall  f1-score   support\n",
      "\n",
      "           0       0.91      0.94      0.92      2132\n",
      "           1       0.93      0.90      0.92      2028\n",
      "\n",
      "    accuracy                           0.92      4160\n",
      "   macro avg       0.92      0.92      0.92      4160\n",
      "weighted avg       0.92      0.92      0.92      4160\n",
      "\n",
      "Confusion Matrix for Random Forest:\n",
      " [[2005  127]\n",
      " [ 203 1825]]\n"
     ]
    }
   ],
   "source": [
    "from sklearn.ensemble import RandomForestClassifier\n",
    "\n",
    "# Create a Random Forest classifier\n",
    "random_forest = RandomForestClassifier(n_estimators=100, random_state=42)\n",
    "\n",
    "# Train the Random Forest model\n",
    "random_forest.fit(X_train, Y_train)\n",
    "\n",
    "# Make predictions\n",
    "Y_pred_rf = random_forest.predict(X_test)\n",
    "\n",
    "# Evaluate the Random Forest model\n",
    "evaluate_model('Random Forest', Y_test, Y_pred_rf)\n"
   ]
  },
  {
   "cell_type": "markdown",
   "id": "80071255-7b6f-4a4b-a47b-ba1a90549c58",
   "metadata": {},
   "source": [
    "XGBoost is a popular gradient boosting algorithm known for its high performance. "
   ]
  },
  {
   "cell_type": "code",
   "execution_count": 34,
   "id": "dadd1281-60a4-4ea2-95db-3c74c321852c",
   "metadata": {
    "tags": []
   },
   "outputs": [
    {
     "name": "stdout",
     "output_type": "stream",
     "text": [
      "XGBoost Accuracy: 0.96\n",
      "Classification Report for XGBoost:\n",
      "               precision    recall  f1-score   support\n",
      "\n",
      "           0       0.96      0.95      0.96      2132\n",
      "           1       0.95      0.96      0.96      2028\n",
      "\n",
      "    accuracy                           0.96      4160\n",
      "   macro avg       0.96      0.96      0.96      4160\n",
      "weighted avg       0.96      0.96      0.96      4160\n",
      "\n",
      "Confusion Matrix for XGBoost:\n",
      " [[2035   97]\n",
      " [  76 1952]]\n"
     ]
    }
   ],
   "source": [
    "import xgboost as xgb\n",
    "\n",
    "# Create an XGBoost classifier\n",
    "xgboost_classifier = xgb.XGBClassifier(random_state=42)\n",
    "\n",
    "# Train the XGBoost model\n",
    "xgboost_classifier.fit(X_train, Y_train)\n",
    "\n",
    "# Make predictions\n",
    "Y_pred_xgb = xgboost_classifier.predict(X_test)\n",
    "\n",
    "# Evaluate the XGBoost model\n",
    "evaluate_model('XGBoost', Y_test, Y_pred_xgb)\n"
   ]
  },
  {
   "cell_type": "markdown",
   "id": "53fd8107-29e8-4207-bcc8-faf27a2e9cc2",
   "metadata": {
    "tags": []
   },
   "source": [
    "## 5. Model Evaluation"
   ]
  },
  {
   "cell_type": "code",
   "execution_count": 35,
   "id": "a9e55971-25f2-4991-b80f-3dd8a09bcb11",
   "metadata": {
    "tags": []
   },
   "outputs": [
    {
     "data": {
      "image/png": "[encoded data removed]",
      "text/plain": [
       "<Figure size 1000x600 with 1 Axes>"
      ]
     },
     "metadata": {},
     "output_type": "display_data"
    }
   ],
   "source": [
    "import matplotlib.pyplot as plt\n",
    "\n",
    "# Define the model names and their corresponding accuracy and F1 scores\n",
    "model_names = [\"Logistic Regression\", \"Multinomial Naive Bayes\", \"Passive Aggressive Classifier\", \"Random Forest\", \"XGBoost\"]\n",
    "accuracies = [0.94, 0.88, 0.95, 0.92, 0.96]\n",
    "f1_scores = [0.94, 0.87, 0.95, 0.92, 0.96]\n",
    "\n",
    "# Create a bar chart\n",
    "plt.figure(figsize=(10, 6))\n",
    "plt.bar(model_names, accuracies, label=\"Accuracy\", width=0.4, align='center', alpha=0.7, color='b')\n",
    "plt.bar(model_names, f1_scores, label=\"F1-Score\", width=0.4, align='edge', alpha=0.7, color='g')\n",
    "\n",
    "# Add labels and legend\n",
    "plt.xlabel(\"Models\")\n",
    "plt.ylabel(\"Score\")\n",
    "plt.title(\"Model Comparison: Accuracy and F1-Score\")\n",
    "plt.legend(loc=\"upper left\")\n",
    "\n",
    "# Display the bar chart\n",
    "plt.xticks(rotation=45)  # Rotate x-axis labels for readability\n",
    "plt.tight_layout()\n",
    "plt.show()\n"
   ]
  },
  {
   "cell_type": "markdown",
   "id": "6f5def71-c3dc-4cc4-8b0e-57fbd4776c0d",
   "metadata": {},
   "source": [
    "Logistic Regression:\n",
    "\n",
    "Accuracy: 0.94\n",
    "F1-Score for Class 0 (Real News): 0.94\n",
    "F1-Score for Class 1 (Fake News): 0.94\n",
    "This model performs well in terms of accuracy and F1-scores for both classes. It's a good baseline model for your task.\n",
    "\n",
    "Multinomial Naive Bayes:\n",
    "\n",
    "Accuracy: 0.88\n",
    "F1-Score for Class 0: 0.89\n",
    "F1-Score for Class 1: 0.86\n",
    "While it has a good F1-score for class 0 (real news), it has a lower F1-score for class 1 (fake news). It's slightly less accurate overall.\n",
    "\n",
    "Passive Aggressive Classifier:\n",
    "\n",
    "Accuracy: 0.95\n",
    "F1-Score for Class 0: 0.95\n",
    "F1-Score for Class 1: 0.95\n",
    "This model performs very well with high accuracy and F1-scores for both classes. It's a strong performer.\n",
    "\n",
    "Random Forest:\n",
    "\n",
    "Accuracy: 0.92\n",
    "F1-Score for Class 0: 0.92\n",
    "F1-Score for Class 1: 0.92\n",
    "It provides a good balance of accuracy and F1-scores, making it a solid choice for fake news detection.\n",
    "\n",
    "XGBoost:\n",
    "\n",
    "Accuracy: 0.96\n",
    "F1-Score for Class 0: 0.96\n",
    "F1-Score for Class 1: 0.96\n",
    "XGBoost achieves the highest accuracy and F1-scores for both classes. It's the top-performing model among the ones you've tested.\n",
    "\n",
    "In summary, XGBoost outperforms the other models in terms of accuracy and F1-scores for both classes. "
   ]
  },
  {
   "cell_type": "markdown",
   "id": "56634585-d122-4da7-825f-081000430548",
   "metadata": {},
   "source": [
    "### K-Fold Cross-Validation\n",
    "\n",
    "It's good to perform k-fold cross-validation on the XGBoost model, especially if it has the highest accuracy among the models you've tested. Cross-validation helps assess the model's performance more robustly by providing a better estimate of its generalization performance on unseen data."
   ]
  },
  {
   "cell_type": "code",
   "execution_count": 37,
   "id": "bdf4ae97-5c92-4777-958c-7fed53c6d724",
   "metadata": {
    "tags": []
   },
   "outputs": [
    {
     "name": "stdout",
     "output_type": "stream",
     "text": [
      "Mean Accuracy: 0.95\n",
      "Standard Deviation: 0.00\n"
     ]
    }
   ],
   "source": [
    "from sklearn.model_selection import cross_val_score, StratifiedKFold\n",
    "\n",
    "# Define your XGBoost classifier\n",
    "xgboost_classifier = xgb.XGBClassifier(random_state=42)\n",
    "\n",
    "# Define the number of folds (k) for cross-validation\n",
    "k = 5  # You can choose any suitable number of folds\n",
    "\n",
    "# Create a cross-validation object (StratifiedKFold is commonly used)\n",
    "cv = StratifiedKFold(n_splits=k, shuffle=True, random_state=42)\n",
    "\n",
    "# Perform k-fold cross-validation and calculate accuracy scores\n",
    "scores = cross_val_score(xgboost_classifier, X_train, Y_train, cv=cv, scoring='accuracy')\n",
    "\n",
    "# Calculate the mean and standard deviation of the cross-validation scores\n",
    "mean_score = scores.mean()\n",
    "std_score = scores.std()\n",
    "\n",
    "# Print the results\n",
    "print(f'Mean Accuracy: {mean_score:.2f}')\n",
    "print(f'Standard Deviation: {std_score:.2f}')\n"
   ]
  },
  {
   "cell_type": "markdown",
   "id": "43c3c6b2-0b1f-473b-9566-b5bf38e3fdd4",
   "metadata": {
    "tags": []
   },
   "source": [
    "A mean accuracy of 0.95 with a standard deviation of 0.00 in cross-validation indicates that your XGBoost model is performing consistently well across different folds of your training data. This is a very good sign and suggests that your model is robust and reliable.\n",
    "\n",
    "The small standard deviation (0.00) indicates that the accuracy scores across the different folds are very close to the mean accuracy, which means your model is not significantly overfitting or underfitting the data."
   ]
  },
  {
   "cell_type": "markdown",
   "id": "272536d4-85ee-4ae7-b712-d6c602916482",
   "metadata": {},
   "source": [
    "### Random Search - hyperparameter tuning:\n",
    "\n",
    "Random search is another hyperparameter tuning technique that randomly samples hyperparameters from a predefined search space. It is more computationally efficient than grid search when the search space is large. You can use scikit-learn's RandomizedSearchCV for this purpose."
   ]
  },
  {
   "cell_type": "code",
   "execution_count": null,
   "id": "96e00292-0298-49c4-8a64-ef20f203764f",
   "metadata": {
    "tags": []
   },
   "outputs": [],
   "source": [
    "from sklearn.model_selection import RandomizedSearchCV\n",
    "\n",
    "# Define the hyperparameter distributions\n",
    "param_dist = {\n",
    "    'learning_rate': [0.01, 0.1, 0.2],\n",
    "    'max_depth': range(3, 11),\n",
    "    'n_estimators': [100, 200, 300, 400, 500],\n",
    "    # Add other hyperparameters to tune here\n",
    "}\n",
    "\n",
    "# Create an XGBoost classifier\n",
    "xgboost_classifier = xgb.XGBClassifier(random_state=42)\n",
    "\n",
    "# Perform random search with cross-validation\n",
    "random_search = RandomizedSearchCV(estimator=xgboost_classifier, param_distributions=param_dist, n_iter=100, cv=5, scoring='accuracy', n_jobs=-1, random_state=42)\n",
    "random_search.fit(X_train, Y_train)\n",
    "\n",
    "# Get the best hyperparameters\n",
    "best_params = random_search.best_params_\n",
    "best_score = random_search.best_score_\n",
    "\n",
    "# Train the final model with the best hyperparameters\n",
    "final_xgboost_model = xgb.XGBClassifier(**best_params, random_state=42)\n",
    "final_xgboost_model.fit(X_train, Y_train)\n"
   ]
  },
  {
   "cell_type": "markdown",
   "id": "3e863009-ac6e-4e15-aba1-96d18e04abf4",
   "metadata": {},
   "source": [
    "Choosing the right hyperparameters for your machine learning model can significantly impact its performance. Here are some strategies to helpdecide which hyperparameters to tune and what values to consider:\n",
    "\n",
    "1. **Domain Knowledge:** Start with a good understanding of your problem domain and the characteristics of your dataset. Some hyperparameters may have intuitive connections to the problem you're trying to solve. For example, in decision trees, the `max_depth` hyperparameter controls the depth of the tree, which can influence the model's complexity.\n",
    "\n",
    "2. **Default Values:** Most machine learning libraries and frameworks provide default values for hyperparameters. These defaults are often chosen as reasonable starting points and can work well for many problems. Begin by using the default values and see how your model performs.\n",
    "\n",
    "3. **Grid Search or Random Search:** Grid search and random search are systematic approaches to hyperparameter tuning. Grid search explores predefined combinations of hyperparameters, while random search randomly samples hyperparameters from predefined distributions. Both methods can help you discover which hyperparameters are influential for your model's performance.\n",
    "\n",
    "4. **Learning Rate and Iterations:** For gradient-based algorithms like gradient boosting and neural networks, the learning rate (or step size) is a crucial hyperparameter. It controls the step size during optimization and can affect convergence. Experiment with different learning rates and the number of iterations to find a good balance.\n",
    "\n",
    "5. **Tree Depth and Number of Trees:** For tree-based models like decision trees, random forests, and gradient boosting, hyperparameters like tree depth (`max_depth`), the number of trees (`n_estimators`), and the minimum number of samples per leaf (`min_samples_leaf`) are essential to control overfitting and underfitting.\n",
    "\n",
    "6. **Regularization Parameters:** Many models have regularization hyperparameters, such as the regularization strength (`C` in SVMs) or the dropout rate in neural networks. These parameters control the trade-off between fitting the training data well and avoiding overfitting.\n"
   ]
  },
  {
   "cell_type": "code",
   "execution_count": null,
   "id": "468c6421-2bda-4538-a85b-b97d05379019",
   "metadata": {},
   "outputs": [],
   "source": []
  }
 ],
 "metadata": {
  "kernelspec": {
   "display_name": "Python 3 (ipykernel)",
   "language": "python",
   "name": "python3"
  },
  "language_info": {
   "codemirror_mode": {
    "name": "ipython",
    "version": 3
   },
   "file_extension": ".py",
   "mimetype": "text/x-python",
   "name": "python",
   "nbconvert_exporter": "python",
   "pygments_lexer": "ipython3",
   "version": "3.11.3"
  }
 },
 "nbformat": 4,
 "nbformat_minor": 5
}
